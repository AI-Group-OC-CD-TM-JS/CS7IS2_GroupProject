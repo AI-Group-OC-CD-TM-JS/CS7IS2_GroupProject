{
 "cells": [
  {
   "cell_type": "code",
   "execution_count": null,
   "metadata": {},
   "outputs": [],
   "source": [
    "# Example credit to: scikit-opt\n",
    "\n",
    "from scipy import spatial\n",
    "import numpy as np\n",
    "import matplotlib.pyplot as plt\n",
    "from sko.ACA import ACA_TSP\n",
    "import pandas as pd\n",
    "\n",
    "num_points = 20\n",
    "dataset_size = 1    # Single set of coords\n",
    "tsp_size = 20\n",
    "points_coordinates = np.random.uniform(size=(dataset_size, tsp_size, 2))\n",
    "distance_matrix = spatial.distance.cdist(points_coordinates[0], points_coordinates[0], metric='euclidean')"
   ]
  },
  {
   "cell_type": "code",
   "execution_count": null,
   "metadata": {},
   "outputs": [],
   "source": [
    "len(points_coordinates[0])"
   ]
  },
  {
   "cell_type": "code",
   "execution_count": null,
   "metadata": {},
   "outputs": [],
   "source": [
    "def cal_total_distance(routine):\n",
    "    '''Get the total distance between all nodes\n",
    "    '''\n",
    "    num_points, = routine.shape\n",
    "    return sum([distance_matrix[routine[i % num_points], routine[(i + 1) % num_points]] for i in range(num_points)])"
   ]
  },
  {
   "cell_type": "code",
   "execution_count": null,
   "metadata": {},
   "outputs": [],
   "source": [
    "import time\n",
    "\n",
    "# Initialise ACA, using euclidean distance as objective function\n",
    "aca = ACA_TSP(func=cal_total_distance, n_dim=num_points,\n",
    "              size_pop=5, max_iter=200,\n",
    "              distance_matrix=distance_matrix)\n",
    "\n",
    "# Run ACA and report total time as well as final distance\n",
    "start_time = time.time()\n",
    "best_points, best_distance = aca.run()\n",
    "print(\"--- %s seconds ---\" % (time.time() - start_time))\n",
    "print(best_points, best_distance, cal_total_distance(best_points))\n"
   ]
  },
  {
   "cell_type": "code",
   "execution_count": null,
   "metadata": {},
   "outputs": [],
   "source": [
    "from matplotlib.ticker import FormatStrFormatter\n",
    "\n",
    "fig, ax = plt.subplots(1, 2)\n",
    "\n",
    "best_points_ = np.concatenate([best_points, [best_points[0]]])\n",
    "best_points_coordinate = points_coordinates[0][best_points_, :]\n",
    "ax[0].plot(aca.y_best_history)\n",
    "ax[0].set_xlabel(\"Iteration\")\n",
    "ax[0].set_ylabel(\"Distance\")\n",
    "ax[1].plot(best_points_coordinate[:, 0], best_points_coordinate[:, 1],\n",
    "           marker='o', markerfacecolor='b', color='c', linestyle='-')\n",
    "ax[1].xaxis.set_major_formatter(FormatStrFormatter('%.3f'))\n",
    "ax[1].yaxis.set_major_formatter(FormatStrFormatter('%.3f'))\n",
    "ax[1].set_xlabel(\"Longitude\")\n",
    "ax[1].set_ylabel(\"Latitude\")\n",
    "plt.show()"
   ]
  },
  {
   "cell_type": "code",
   "execution_count": null,
   "metadata": {},
   "outputs": [],
   "source": [
    "from ACA import run_ACA\n",
    "\n",
    "run_ACA(points_coordinates, 300, 5)"
   ]
  },
  {
   "cell_type": "code",
   "execution_count": null,
   "metadata": {},
   "outputs": [],
   "source": [
    "\"\"\"\n",
    " \\       /\n",
    "  \\     /  \n",
    "   \\.-./ \n",
    "  (o\\^/o)  _   _   _     __\n",
    "   ./ \\.\\ ( )-( )-( ) .-'  '-.\n",
    "    {-} \\(//  ||   \\\\/ (   )) '-.\n",
    "         //-__||__.-\\\\.       .-'\n",
    "        (/    ()     \\)'-._.-'\n",
    "        ||    ||      \\\\\n",
    "        ('    ('       ')\n",
    "    \"\"\""
   ]
  }
 ],
 "metadata": {
  "interpreter": {
   "hash": "51e9fc206c0854c8ad670151bc1a698299bdc836362019ca2eabb52653b332e2"
  },
  "kernelspec": {
   "display_name": "Python 3.8.5 ('base')",
   "language": "python",
   "name": "python3"
  },
  "language_info": {
   "codemirror_mode": {
    "name": "ipython",
    "version": 3
   },
   "file_extension": ".py",
   "mimetype": "text/x-python",
   "name": "python",
   "nbconvert_exporter": "python",
   "pygments_lexer": "ipython3",
   "version": "3.8.5"
  },
  "orig_nbformat": 4
 },
 "nbformat": 4,
 "nbformat_minor": 2
}
