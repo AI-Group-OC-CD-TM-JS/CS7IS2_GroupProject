{
 "cells": [
  {
   "cell_type": "code",
   "execution_count": 1,
   "metadata": {},
   "outputs": [],
   "source": [
    "from scipy import spatial\n",
    "import numpy as np\n",
    "import matplotlib.pyplot as plt\n",
    "from ACA import run_ACA\n",
    "from typing import List, Any"
   ]
  },
  {
   "cell_type": "code",
   "execution_count": 2,
   "metadata": {},
   "outputs": [],
   "source": [
    "def compare_hyper_params(params : List[Any], param_type:str,iterations=20, alpha=1, beta=2, rho=0.1, population = 10 ):\n",
    "    \"\"\"\n",
    "    Given a list of different params, see which perform best\n",
    "    \n",
    "    \"\"\"\n",
    "\n",
    "    best_distance = 0.0\n",
    "\n",
    "    num_graphs = 20\n",
    "    num_points = 100\n",
    "    dataset_size = 1\n",
    "\n",
    "\n",
    "    final_results = {p:0 for p in params}   # Keep track of number of times param did best\n",
    "\n",
    "    # try a number of different graphs\n",
    "    for i in range(num_graphs):\n",
    "\n",
    "        points_coordinates = np.random.uniform(size=(dataset_size, num_points, 2))\n",
    "\n",
    "        results_dict = {p:0.0 for p in params}\n",
    "\n",
    "        for p in params:\n",
    "\n",
    "            if param_type == \"iterations\":\n",
    "                best_distance, best_points, time_taken, best_history = run_ACA(\n",
    "                    coordinates = points_coordinates, \n",
    "                    iterations=p,\n",
    "                    population = population,\n",
    "                    alpha = alpha,\n",
    "                    beta = beta,\n",
    "                    rho = rho)\n",
    "            elif param_type == \"population\":\n",
    "                best_distance, best_points, time_taken, best_history = run_ACA(\n",
    "                    coordinates = points_coordinates, \n",
    "                    iterations=iterations,\n",
    "                    population = p,\n",
    "                    alpha = alpha,\n",
    "                    beta = beta,\n",
    "                    rho = rho)\n",
    "            elif param_type == \"alpha\":\n",
    "                best_distance, best_points, time_taken, best_history = run_ACA(\n",
    "                    coordinates = points_coordinates, \n",
    "                    iterations=iterations,\n",
    "                    population = population,\n",
    "                    alpha = p,\n",
    "                    beta = beta,\n",
    "                    rho = rho)\n",
    "            elif param_type == \"beta\":\n",
    "                best_distance, best_points, time_taken, best_history = run_ACA(\n",
    "                    coordinates = points_coordinates, \n",
    "                    iterations=iterations,\n",
    "                    population = population,\n",
    "                    alpha = alpha,\n",
    "                    beta = p,\n",
    "                    rho = rho)\n",
    "            elif param_type == \"rho\":\n",
    "                best_distance, best_points, time_taken, best_history = run_ACA(\n",
    "                    coordinates = points_coordinates, \n",
    "                    iterations=iterations,\n",
    "                    population = population,\n",
    "                    alpha = alpha,\n",
    "                    beta = beta,\n",
    "                    rho = p)\n",
    "            \n",
    "            results_dict[p] = best_distance\n",
    "        best_param = min(results_dict, key=results_dict.get)\n",
    "        final_results[best_param] += 1\n",
    "\n",
    "    return final_results\n",
    "\n"
   ]
  },
  {
   "cell_type": "code",
   "execution_count": 3,
   "metadata": {},
   "outputs": [
    {
     "data": {
      "text/plain": [
       "{5: 0, 10: 0, 20: 0, 40: 0, 80: 20}"
      ]
     },
     "execution_count": 3,
     "metadata": {},
     "output_type": "execute_result"
    }
   ],
   "source": [
    "compare_hyper_params([5, 10, 20, 40, 80], \"iterations\", alpha=1, beta=2, rho=0.1, population = 10 )"
   ]
  },
  {
   "cell_type": "code",
   "execution_count": 4,
   "metadata": {},
   "outputs": [
    {
     "data": {
      "text/plain": [
       "{5: 0, 10: 0, 20: 0, 40: 0, 80: 20}"
      ]
     },
     "execution_count": 4,
     "metadata": {},
     "output_type": "execute_result"
    }
   ],
   "source": [
    "compare_hyper_params([5, 10, 20, 40, 80], \"population\", alpha=1, beta=2, rho=0.1, population = 10 )"
   ]
  },
  {
   "cell_type": "code",
   "execution_count": 5,
   "metadata": {},
   "outputs": [
    {
     "data": {
      "text/plain": [
       "{0.0: 0,\n",
       " 0.7142857142857143: 0,\n",
       " 1.4285714285714286: 0,\n",
       " 2.142857142857143: 0,\n",
       " 2.857142857142857: 3,\n",
       " 3.5714285714285716: 4,\n",
       " 4.285714285714286: 4,\n",
       " 5.0: 5,\n",
       " 5.714285714285714: 1,\n",
       " 6.428571428571429: 2,\n",
       " 7.142857142857143: 0,\n",
       " 7.857142857142858: 0,\n",
       " 8.571428571428571: 0,\n",
       " 9.285714285714286: 1,\n",
       " 10.0: 0}"
      ]
     },
     "execution_count": 5,
     "metadata": {},
     "output_type": "execute_result"
    }
   ],
   "source": [
    "compare_hyper_params(np.linspace(0,10, num = 15), \"alpha\", alpha=1, beta=2, rho=0.1, population = 10 )"
   ]
  },
  {
   "cell_type": "code",
   "execution_count": 6,
   "metadata": {},
   "outputs": [
    {
     "data": {
      "text/plain": [
       "{0.0: 0,\n",
       " 0.7142857142857143: 0,\n",
       " 1.4285714285714286: 0,\n",
       " 2.142857142857143: 0,\n",
       " 2.857142857142857: 0,\n",
       " 3.5714285714285716: 0,\n",
       " 4.285714285714286: 1,\n",
       " 5.0: 1,\n",
       " 5.714285714285714: 1,\n",
       " 6.428571428571429: 1,\n",
       " 7.142857142857143: 0,\n",
       " 7.857142857142858: 3,\n",
       " 8.571428571428571: 4,\n",
       " 9.285714285714286: 6,\n",
       " 10.0: 3}"
      ]
     },
     "execution_count": 6,
     "metadata": {},
     "output_type": "execute_result"
    }
   ],
   "source": [
    "compare_hyper_params(np.linspace(0,10, num = 15), \"beta\", alpha=1, beta=2, rho=0.1, population = 10 )"
   ]
  },
  {
   "cell_type": "code",
   "execution_count": 10,
   "metadata": {},
   "outputs": [
    {
     "data": {
      "text/plain": [
       "{0.0: 0, 0.225: 1, 0.45: 11, 0.675: 7, 0.9: 1}"
      ]
     },
     "execution_count": 10,
     "metadata": {},
     "output_type": "execute_result"
    }
   ],
   "source": [
    "compare_hyper_params(np.linspace(0,0.9, num = 5), \"rho\", alpha=1, beta=2, rho=0.1, population = 10 )"
   ]
  }
 ],
 "metadata": {
  "interpreter": {
   "hash": "75a27d8ced4bf509e4d2c800f551f103c0604243858e3246254ff7ab6bc9d2c4"
  },
  "kernelspec": {
   "display_name": "Python 3.10.4",
   "language": "python",
   "name": "python3"
  },
  "language_info": {
   "codemirror_mode": {
    "name": "ipython",
    "version": 3
   },
   "file_extension": ".py",
   "mimetype": "text/x-python",
   "name": "python",
   "nbconvert_exporter": "python",
   "pygments_lexer": "ipython3",
   "version": "3.8.5"
  },
  "orig_nbformat": 4
 },
 "nbformat": 4,
 "nbformat_minor": 2
}
