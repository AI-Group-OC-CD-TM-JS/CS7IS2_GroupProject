{
 "cells": [
  {
   "cell_type": "code",
   "execution_count": 1,
   "metadata": {},
   "outputs": [
    {
     "name": "stderr",
     "output_type": "stream",
     "text": [
      "/home/tom/miniconda3/envs/ML/lib/python3.8/site-packages/tqdm/auto.py:22: TqdmWarning: IProgress not found. Please update jupyter and ipywidgets. See https://ipywidgets.readthedocs.io/en/stable/user_install.html\n",
      "  from .autonotebook import tqdm as notebook_tqdm\n"
     ]
    }
   ],
   "source": [
    "from SA.SA import run_SA\n",
    "from ACA.ACA import run_ACA\n",
    "# ALR\n",
    "import numpy as np\n"
   ]
  },
  {
   "cell_type": "markdown",
   "metadata": {},
   "source": [
    "## Generate Data"
   ]
  },
  {
   "cell_type": "code",
   "execution_count": 2,
   "metadata": {},
   "outputs": [],
   "source": [
    "dataset_size = 1\n",
    "tsp_size = 20\n",
    "points_coordinates = np.random.uniform(size=(dataset_size, tsp_size, 2))"
   ]
  },
  {
   "cell_type": "markdown",
   "metadata": {},
   "source": [
    "## Run Solutions"
   ]
  },
  {
   "cell_type": "code",
   "execution_count": 5,
   "metadata": {},
   "outputs": [],
   "source": [
    "SA_distance, SA_nodes, SA_time = run_SA(points_coordinates, iterations=300, t_max=50, t_min=1)  # Simulated annealing\n",
    "ACA_distance, ACA_nodes, ACA_time = run_ACA(points_coordinates, iterations=300, population=5) # Ant Colony Optimisation\n",
    "#ALR"
   ]
  },
  {
   "cell_type": "code",
   "execution_count": 6,
   "metadata": {},
   "outputs": [
    {
     "name": "stdout",
     "output_type": "stream",
     "text": [
      "---- SIMULATED ANNEALING ----\n",
      "Total Distance: 5.69851345578503\n",
      "Nodes to Follow: [19  2 16 18 11  9  1  5  4 13  3 15  0 10  8 12  7  6 14 17]\n",
      "Total Time: 13.166094064712524\n",
      "\n",
      "\n",
      "\n",
      "---- ANT COLONY OPTIMISATION ----\n",
      "Total Distance: 3.4702305140525813\n",
      "Nodes to Follow: [ 0 10  7  8 12  6 14 16  2 13  1  4  5 11  9 18  3 19 17 15]\n",
      "Total Time: 5.852415561676025\n"
     ]
    }
   ],
   "source": [
    "print(f\"---- SIMULATED ANNEALING ----\")\n",
    "print(f\"Total Distance: {SA_distance}\")\n",
    "print(f\"Nodes to Follow: {SA_nodes}\")\n",
    "print(f\"Total Time: {SA_time}\")\n",
    "print(\"\\n\\n\")\n",
    "print(f\"---- ANT COLONY OPTIMISATION ----\")\n",
    "print(f\"Total Distance: {ACA_distance}\")\n",
    "print(f\"Nodes to Follow: {ACA_nodes}\")\n",
    "print(f\"Total Time: {ACA_time}\")\n",
    "# print(\"\\n\\n\")\n",
    "# print(f\"---- GRAPH NEURAL NET ----\")\n",
    "# print(f\"Total Distance: {ALR_distance}\")\n",
    "# print(f\"Nodes to Follow: {ALR_nodes}\")\n",
    "# print(f\"Total Time: {ALR_time}\")"
   ]
  },
  {
   "cell_type": "markdown",
   "metadata": {},
   "source": [
    "## Plot Stuff"
   ]
  },
  {
   "cell_type": "markdown",
   "metadata": {},
   "source": []
  }
 ],
 "metadata": {
  "interpreter": {
   "hash": "5ea5f822aeab596314334ea1e62fe92926319a59f671f6f66e274027cdf6cea6"
  },
  "kernelspec": {
   "display_name": "Python 3.8.12 ('ML')",
   "language": "python",
   "name": "python3"
  },
  "language_info": {
   "codemirror_mode": {
    "name": "ipython",
    "version": 3
   },
   "file_extension": ".py",
   "mimetype": "text/x-python",
   "name": "python",
   "nbconvert_exporter": "python",
   "pygments_lexer": "ipython3",
   "version": "3.8.12"
  },
  "orig_nbformat": 4
 },
 "nbformat": 4,
 "nbformat_minor": 2
}
