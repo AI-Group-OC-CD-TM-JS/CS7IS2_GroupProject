{
 "cells": [
  {
   "cell_type": "code",
   "execution_count": 3,
   "metadata": {},
   "outputs": [],
   "source": [
    "from scipy import spatial\n",
    "import numpy as np\n",
    "import matplotlib.pyplot as plt\n",
    "from SA import run_SA\n",
    "from typing import List, Any"
   ]
  },
  {
   "cell_type": "code",
   "execution_count": 6,
   "metadata": {},
   "outputs": [],
   "source": [
    "def compare_hyper_params(params : List[Any], param_type:str, t_min=1, t_max=50, iterations=300):\n",
    "    \"\"\"\n",
    "    Given a list of different params, see which perform best\n",
    "    \n",
    "    \"\"\"\n",
    "\n",
    "    best_distance = 0.0\n",
    "\n",
    "    num_graphs = 20\n",
    "    num_points = 20\n",
    "    dataset_size = 1\n",
    "\n",
    "\n",
    "    final_results = {p:0 for p in params}   # Keep track of number of times param did best\n",
    "\n",
    "    # try a number of different graphs\n",
    "    for i in range(num_graphs):\n",
    "\n",
    "        points_coordinates = np.random.uniform(size=(dataset_size, num_points, 2))\n",
    "\n",
    "        results_dict = {p:0.0 for p in params}\n",
    "\n",
    "        for p in params:\n",
    "\n",
    "            if param_type == \"iterations\":\n",
    "                best_distance, best_points, time_taken, best_history = run_SA(points_coordinates, p, t_max, t_min)\n",
    "            elif param_type == \"t_min\":\n",
    "                best_distance, best_points, time_taken, best_history = run_SA(points_coordinates, iterations, t_max, p)\n",
    "            elif param_type == \"t_max\":\n",
    "                best_distance, best_points, time_taken, best_history = run_SA(points_coordinates, iterations, p, t_min)\n",
    "\n",
    "            \n",
    "            results_dict[p] = best_distance\n",
    "        best_param = min(results_dict, key=results_dict.get)\n",
    "        final_results[best_param] += 1\n",
    "\n",
    "    return final_results\n",
    "\n"
   ]
  },
  {
   "cell_type": "code",
   "execution_count": 10,
   "metadata": {},
   "outputs": [
    {
     "data": {
      "text/plain": [
       "{45: 20, 40: 0, 35: 0, 50: 0}"
      ]
     },
     "execution_count": 10,
     "metadata": {},
     "output_type": "execute_result"
    }
   ],
   "source": [
    "compare_hyper_params([45, 40, 35, 50], \"t_max\", t_min=1, t_max=50, iterations=300)"
   ]
  },
  {
   "cell_type": "code",
   "execution_count": null,
   "metadata": {},
   "outputs": [],
   "source": []
  }
 ],
 "metadata": {
  "interpreter": {
   "hash": "75a27d8ced4bf509e4d2c800f551f103c0604243858e3246254ff7ab6bc9d2c4"
  },
  "kernelspec": {
   "display_name": "Python 3.10.4",
   "language": "python",
   "name": "python3"
  },
  "language_info": {
   "codemirror_mode": {
    "name": "ipython",
    "version": 3
   },
   "file_extension": ".py",
   "mimetype": "text/x-python",
   "name": "python",
   "nbconvert_exporter": "python",
   "pygments_lexer": "ipython3",
   "version": "3.10.4"
  },
  "orig_nbformat": 4
 },
 "nbformat": 4,
 "nbformat_minor": 2
}
